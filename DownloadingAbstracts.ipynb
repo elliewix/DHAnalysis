{
 "metadata": {
  "name": ""
 },
 "nbformat": 3,
 "nbformat_minor": 0,
 "worksheets": [
  {
   "cells": [
    {
     "cell_type": "code",
     "collapsed": false,
     "input": [
      "import urllib2\n",
      "from scrapy.selector import Selector\n",
      "from os import listdir\n",
      "from os.path import isfile, join"
     ],
     "language": "python",
     "metadata": {},
     "outputs": [],
     "prompt_number": 1
    },
    {
     "cell_type": "code",
     "collapsed": false,
     "input": [
      "filename = 'abstractpage.txt'\n",
      "file(filename, \"wb\").write(urllib2.urlopen('http://dh2014.org/program/abstracts/').read())"
     ],
     "language": "python",
     "metadata": {},
     "outputs": [],
     "prompt_number": 2
    },
    {
     "cell_type": "code",
     "collapsed": false,
     "input": [
      "with open('abstractpage.txt','rt') as abpage:\n",
      "    body = abpage.read()"
     ],
     "language": "python",
     "metadata": {},
     "outputs": [],
     "prompt_number": 3
    },
    {
     "cell_type": "code",
     "collapsed": false,
     "input": [
      "pages = Selector(text=body).xpath('//a[starts-with(@href,\\'http://dharchive.org/paper/DH2014/\\')]/@href').extract()"
     ],
     "language": "python",
     "metadata": {},
     "outputs": [],
     "prompt_number": 4
    },
    {
     "cell_type": "code",
     "collapsed": false,
     "input": [
      "for page in pages:\n",
      "    filename = page.split('/')[-1]\n",
      "    file(\"abstracts/\" + filename, \"wb\").write(urllib2.urlopen(page).read())"
     ],
     "language": "python",
     "metadata": {},
     "outputs": [],
     "prompt_number": 5
    },
    {
     "cell_type": "code",
     "collapsed": false,
     "input": [
      "def getFiles(path):\n",
      "    \"\"\"Function to return a list of all files within a folder\"\"\"\n",
      "    files = [ f for f in listdir(path) if isfile(join(path,f)) and f[0] != '.' ]\n",
      "    return files"
     ],
     "language": "python",
     "metadata": {},
     "outputs": [],
     "prompt_number": 6
    },
    {
     "cell_type": "code",
     "collapsed": false,
     "input": [
      "types = set([fname.split('-')[0] for fname in getFiles(\"abstracts\")])\n",
      "print types"
     ],
     "language": "python",
     "metadata": {},
     "outputs": [
      {
       "output_type": "stream",
       "stream": "stdout",
       "text": [
        "set(['Poster', 'Paper', 'Workshops', 'Plenary', 'Panel'])\n"
       ]
      }
     ],
     "prompt_number": 7
    },
    {
     "cell_type": "code",
     "collapsed": false,
     "input": [
      "totalconfthings = 0\n",
      "totalpython = 0\n",
      "totaljavascript = 0\n",
      "totaljava = 0\n",
      "totalcuration = 0\n",
      "\n",
      "for ab in getFiles(\"abstracts/\"):\n",
      "    name = ab.split('.')[0]\n",
      "    with open(\"abstracts/\" + ab,'rb') as abfile:\n",
      "        body = abfile.read()\n",
      "    text = \"\".join(Selector(text=body).xpath('//p//descendant::text()').extract())\n",
      "    if ab.endswith('.xml'):\n",
      "        totalconfthings += 1\n",
      "        if 'python' in text.lower():\n",
      "            totalpython += 1\n",
      "            print ab, 'python'\n",
      "        if 'javascript' in text.lower():\n",
      "            totaljavascript += 1\n",
      "            print ab, 'javascript'\n",
      "        elif 'java' in text.lower():\n",
      "            totaljava += 1\n",
      "            print ab, 'java' # there is some weakness in how I'm doing this calculation.  TODO: fix that\n",
      "        if 'curation' in text.lower():\n",
      "            print ab, 'curation'\n",
      "            totalcuration += 1\n",
      "    with open(\"abstracts/\" + name + \".txt\", 'wt') as about:\n",
      "        about.write(text.encode('utf8'))\n",
      "        \n",
      "print totalconfthings, \"total\"\n",
      "print totalpython, \"total python\"\n",
      "print totaljavascript, \"total javascript\"\n",
      "print totaljava, \"total java\"\n",
      "print totalcuration, \"total curation\"\n",
      "\n",
      "    #print text.lower()\n",
      "#     if \"humanities\" in text.lower():\n",
      "#         print \"python found in\", ab"
     ],
     "language": "python",
     "metadata": {},
     "outputs": [
      {
       "output_type": "stream",
       "stream": "stdout",
       "text": [
        "Panel-932.xml curation\n",
        "Paper-101.xml curation\n",
        "Paper-134.xml"
       ]
      },
      {
       "output_type": "stream",
       "stream": "stdout",
       "text": [
        " javascript\n",
        "Paper-134.xml curation\n",
        "Paper-137.xml python\n",
        "Paper-167.xml curation\n",
        "Paper-171.xml python\n",
        "Paper-196.xml"
       ]
      },
      {
       "output_type": "stream",
       "stream": "stdout",
       "text": [
        " javascript\n",
        "Paper-199.xml java\n",
        "Paper-200.xml python\n",
        "Paper-205.xml java\n",
        "Paper-224.xml python\n",
        "Paper-224.xml javascript\n",
        "Paper-294.xml"
       ]
      },
      {
       "output_type": "stream",
       "stream": "stdout",
       "text": [
        " javascript\n",
        "Paper-330.xml javascript\n",
        "Paper-373.xml"
       ]
      },
      {
       "output_type": "stream",
       "stream": "stdout",
       "text": [
        " javascript\n",
        "Paper-416.xml javascript\n",
        "Paper-468.xml"
       ]
      },
      {
       "output_type": "stream",
       "stream": "stdout",
       "text": [
        " curation\n",
        "Paper-480.xml curation\n",
        "Paper-483.xml curation\n",
        "Paper-492.xml curation\n",
        "Paper-504.xml curation\n",
        "Paper-63.xml"
       ]
      },
      {
       "output_type": "stream",
       "stream": "stdout",
       "text": [
        " python\n",
        "Paper-639.xml java\n",
        "Paper-676.xml"
       ]
      },
      {
       "output_type": "stream",
       "stream": "stdout",
       "text": [
        " curation\n",
        "Paper-68.xml curation\n",
        "Paper-680.xml javascript\n",
        "Paper-743.xml"
       ]
      },
      {
       "output_type": "stream",
       "stream": "stdout",
       "text": [
        " curation\n",
        "Paper-756.xml java\n",
        "Paper-758.xml curation\n",
        "Paper-778.xml"
       ]
      },
      {
       "output_type": "stream",
       "stream": "stdout",
       "text": [
        " python\n",
        "Paper-796.xml javascript\n",
        "Paper-803.xml python\n",
        "Paper-805.xml"
       ]
      },
      {
       "output_type": "stream",
       "stream": "stdout",
       "text": [
        " javascript\n",
        "Paper-823.xml curation\n",
        "Paper-866.xml"
       ]
      },
      {
       "output_type": "stream",
       "stream": "stdout",
       "text": [
        " curation\n",
        "Paper-877.xml"
       ]
      },
      {
       "output_type": "stream",
       "stream": "stdout",
       "text": [
        " python\n",
        "Paper-877.xml java\n",
        "Paper-888.xml python\n",
        "Paper-888.xml javascript\n",
        "Paper-892.xml javascript\n",
        "Paper-924.xml"
       ]
      },
      {
       "output_type": "stream",
       "stream": "stdout",
       "text": [
        " java\n",
        "Paper-925.xml java\n",
        "Poster-219.xml"
       ]
      },
      {
       "output_type": "stream",
       "stream": "stdout",
       "text": [
        " java\n",
        "Poster-219.xml curation\n",
        "Poster-256.xml javascript\n",
        "Poster-290.xml javascript\n",
        "Poster-427.xml"
       ]
      },
      {
       "output_type": "stream",
       "stream": "stdout",
       "text": [
        " curation\n",
        "Poster-48.xml java\n",
        "Poster-651.xml"
       ]
      },
      {
       "output_type": "stream",
       "stream": "stdout",
       "text": [
        " curation\n",
        "Poster-735.xml curation\n",
        "Poster-782.xml"
       ]
      },
      {
       "output_type": "stream",
       "stream": "stdout",
       "text": [
        " java\n",
        "Poster-834.xml curation\n",
        "Poster-842.xml"
       ]
      },
      {
       "output_type": "stream",
       "stream": "stdout",
       "text": [
        " java\n",
        "Workshops-902.xml"
       ]
      },
      {
       "output_type": "stream",
       "stream": "stdout",
       "text": [
        " curation\n",
        "Workshops-904.xml python\n",
        "Workshops-904.xml javascript\n",
        "Workshops-904.xml curation\n",
        "Workshops-906.xml curation\n",
        "Workshops-908.xml curation\n",
        "Workshops-910.xml curation\n",
        "Workshops-912.xml java\n",
        "375 total\n",
        "10 total python\n",
        "15 total javascript\n",
        "12 total java\n",
        "25"
       ]
      },
      {
       "output_type": "stream",
       "stream": "stdout",
       "text": [
        " total curation\n"
       ]
      }
     ],
     "prompt_number": 15
    },
    {
     "cell_type": "code",
     "collapsed": false,
     "input": [
      "text = \"\".join(Selector(text=body).xpath('//p//descendant::text()').extract())\n"
     ],
     "language": "python",
     "metadata": {},
     "outputs": [],
     "prompt_number": 54
    },
    {
     "cell_type": "code",
     "collapsed": false,
     "input": [],
     "language": "python",
     "metadata": {},
     "outputs": []
    }
   ],
   "metadata": {}
  }
 ]
}
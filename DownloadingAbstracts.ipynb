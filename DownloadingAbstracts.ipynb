{
 "metadata": {
  "name": ""
 },
 "nbformat": 3,
 "nbformat_minor": 0,
 "worksheets": [
  {
   "cells": [
    {
     "cell_type": "code",
     "collapsed": false,
     "input": [
      "import urllib2\n",
      "from scrapy.selector import Selector\n",
      "from os import listdir\n",
      "from os.path import isfile, join"
     ],
     "language": "python",
     "metadata": {},
     "outputs": [],
     "prompt_number": 1
    },
    {
     "cell_type": "code",
     "collapsed": false,
     "input": [
      "filename = 'abstractpage.txt'\n",
      "file(filename, \"wb\").write(urllib2.urlopen('http://dh2014.org/program/abstracts/').read())"
     ],
     "language": "python",
     "metadata": {},
     "outputs": [],
     "prompt_number": 2
    },
    {
     "cell_type": "code",
     "collapsed": false,
     "input": [
      "with open('abstractpage.txt','rt') as abpage:\n",
      "    body = abpage.read()"
     ],
     "language": "python",
     "metadata": {},
     "outputs": [],
     "prompt_number": 3
    },
    {
     "cell_type": "code",
     "collapsed": false,
     "input": [
      "pages = Selector(text=body).xpath('//a[starts-with(@href,\\'http://dharchive.org/paper/DH2014/\\')]/@href').extract()"
     ],
     "language": "python",
     "metadata": {},
     "outputs": [],
     "prompt_number": 4
    },
    {
     "cell_type": "code",
     "collapsed": false,
     "input": [
      "for page in pages:\n",
      "    filename = page.split('/')[-1]\n",
      "    file(\"abstracts/\" + filename, \"wb\").write(urllib2.urlopen(page).read())"
     ],
     "language": "python",
     "metadata": {},
     "outputs": [],
     "prompt_number": 5
    },
    {
     "cell_type": "code",
     "collapsed": false,
     "input": [
      "def getFiles(path):\n",
      "    \"\"\"Function to return a list of all files within a folder\"\"\"\n",
      "    files = [ f for f in listdir(path) if isfile(join(path,f)) and f[0] != '.' ]\n",
      "    return files"
     ],
     "language": "python",
     "metadata": {},
     "outputs": [],
     "prompt_number": 6
    },
    {
     "cell_type": "code",
     "collapsed": false,
     "input": [
      "types = set([fname.split('-')[0] for fname in getFiles(\"abstracts\")])\n",
      "print types"
     ],
     "language": "python",
     "metadata": {},
     "outputs": [
      {
       "output_type": "stream",
       "stream": "stdout",
       "text": [
        "set(['Poster', 'Paper', 'Workshops', 'Plenary', 'Panel'])\n"
       ]
      }
     ],
     "prompt_number": 7
    },
    {
     "cell_type": "code",
     "collapsed": false,
     "input": [
      "for ab in getFiles(\"abstracts/\"):\n",
      "    name = ab.split('.')[0]\n",
      "    with open(\"abstracts/\" + ab,'rb') as abfile:\n",
      "        body = abfile.read()\n",
      "    text = \"\".join(Selector(text=body).xpath('//p//descendant::text()').extract())\n",
      "    with open(\"abstracts/\" + name + \".txt\", 'wt') as about:\n",
      "        about.write(text.encode('utf8'))\n",
      "    #print text.lower()\n",
      "#     if \"humanities\" in text.lower():\n",
      "#         print \"python found in\", ab"
     ],
     "language": "python",
     "metadata": {},
     "outputs": [],
     "prompt_number": 8
    },
    {
     "cell_type": "code",
     "collapsed": false,
     "input": [
      "text = \"\".join(Selector(text=body).xpath('//p//descendant::text()').extract())\n"
     ],
     "language": "python",
     "metadata": {},
     "outputs": [],
     "prompt_number": 54
    },
    {
     "cell_type": "code",
     "collapsed": false,
     "input": [],
     "language": "python",
     "metadata": {},
     "outputs": []
    }
   ],
   "metadata": {}
  }
 ]
}
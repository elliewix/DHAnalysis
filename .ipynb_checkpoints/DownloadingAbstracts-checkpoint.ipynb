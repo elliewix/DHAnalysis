{
 "metadata": {
  "name": ""
 },
 "nbformat": 3,
 "nbformat_minor": 0,
 "worksheets": [
  {
   "cells": [
    {
     "cell_type": "code",
     "collapsed": false,
     "input": [
      "import urllib2\n",
      "from scrapy.selector import Selector\n",
      "from os import listdir\n",
      "from os.path import isfile, join"
     ],
     "language": "python",
     "metadata": {},
     "outputs": [],
     "prompt_number": 34
    },
    {
     "cell_type": "code",
     "collapsed": false,
     "input": [
      "filename = 'abstractpage.txt'\n",
      "file(filename, \"wb\").write(urllib2.urlopen('http://dh2014.org/program/abstracts/').read())"
     ],
     "language": "python",
     "metadata": {},
     "outputs": [],
     "prompt_number": 8
    },
    {
     "cell_type": "code",
     "collapsed": false,
     "input": [
      "with open('abstractpage.txt','rt') as abpage:\n",
      "    body = abpage.read()"
     ],
     "language": "python",
     "metadata": {},
     "outputs": [],
     "prompt_number": 12
    },
    {
     "cell_type": "code",
     "collapsed": false,
     "input": [
      "pages = Selector(text=body).xpath('//a[starts-with(@href,\\'http://dharchive.org/paper/DH2014/\\')]/@href').extract()"
     ],
     "language": "python",
     "metadata": {},
     "outputs": [],
     "prompt_number": 26
    },
    {
     "cell_type": "code",
     "collapsed": false,
     "input": [
      "for page in page:\n",
      "    filename = page.split('/')[-1]\n",
      "    file(\"abstracts/\" + filename, \"wb\").write(urllib2.urlopen(page).read())"
     ],
     "language": "python",
     "metadata": {},
     "outputs": [],
     "prompt_number": 28
    },
    {
     "cell_type": "code",
     "collapsed": false,
     "input": [
      "def getFiles(path):\n",
      "    \"\"\"Function to return a list of all files within a folder\"\"\"\n",
      "    files = [ f for f in listdir(path) if isfile(join(path,f)) and f[0] != '.' ]\n",
      "    return files"
     ],
     "language": "python",
     "metadata": {},
     "outputs": [],
     "prompt_number": 29
    },
    {
     "cell_type": "code",
     "collapsed": false,
     "input": [
      "types = set([fname.split('-')[0] for fname in getFiles(\"abstracts\")])\n",
      "print types"
     ],
     "language": "python",
     "metadata": {},
     "outputs": [
      {
       "output_type": "stream",
       "stream": "stdout",
       "text": [
        "set(['Poster', 'Paper', 'Workshops', 'Plenary', 'Panel'])\n"
       ]
      }
     ],
     "prompt_number": 38
    },
    {
     "cell_type": "code",
     "collapsed": false,
     "input": [
      "with open('abstracts/Paper-60.xml','rt') as abpage:\n",
      "    body = abpage.read()\n"
     ],
     "language": "python",
     "metadata": {},
     "outputs": [],
     "prompt_number": 39
    },
    {
     "cell_type": "code",
     "collapsed": false,
     "input": [
      "para = Selector(text=body).xpath('//a[starts-with(@href,\\'http://dharchive.org/paper/DH2014/\\')]/@href').extract()\n",
      "\n",
      "for item in para:\n",
      "    print item"
     ],
     "language": "python",
     "metadata": {},
     "outputs": []
    }
   ],
   "metadata": {}
  }
 ]
}
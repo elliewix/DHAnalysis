{
 "cells": [
  {
   "cell_type": "code",
   "execution_count": 12,
   "metadata": {
    "collapsed": true
   },
   "outputs": [],
   "source": [
    "import urllib2\n",
    "from scrapy.selector import Selector\n",
    "from os import listdir\n",
    "from os.path import isfile, join\n",
    "import string"
   ]
  },
  {
   "cell_type": "code",
   "execution_count": 2,
   "metadata": {
    "collapsed": true
   },
   "outputs": [],
   "source": [
    "def dlpage(url, targetname):\n",
    "    \"\"\"pass url and file name, downloads url page to this file\"\"\"\n",
    "    file(targetname, \"wb\").write(urllib2.urlopen(url).read())\n",
    "    \n",
    "def getFiles(path):\n",
    "    \"\"\"Function to return a list of all files within a folder\"\"\"\n",
    "    files = [ f for f in listdir(path) if isfile(join(path,f)) and f[0] != '.' ]\n",
    "    return files"
   ]
  },
  {
   "cell_type": "code",
   "execution_count": 5,
   "metadata": {
    "collapsed": true
   },
   "outputs": [],
   "source": [
    "\n",
    "folders = ['DH2010/textfiles/', 'DH2011/textfiles/', 'DH2013/textfiles/', 'DH2014/textfiles/']"
   ]
  },
  {
   "cell_type": "code",
   "execution_count": 9,
   "metadata": {
    "collapsed": false
   },
   "outputs": [],
   "source": [
    "yeartext = {}\n",
    "\n",
    "for folder in folders:\n",
    "    year = folder.split('/')[0]\n",
    "    text = \"\"\n",
    "    files = [folder + f for f in getFiles(folder)]\n",
    "    for f in files:\n",
    "        with open(f, 'rt') as fin:\n",
    "            abtext = fin.read()\n",
    "        text += abtext + '\\n'\n",
    "    yeartext[year] = text"
   ]
  },
  {
   "cell_type": "code",
   "execution_count": 17,
   "metadata": {
    "collapsed": false
   },
   "outputs": [],
   "source": [
    "procyeartext = {}\n",
    "\n",
    "for year, text in yeartext.iteritems():\n",
    "    lowertext = text.lower()\n",
    "    nopunc = [char for char in lowertext if char not in string.punctuation]\n",
    "    procyeartext[year] = \"\".join(nopunc)"
   ]
  },
  {
   "cell_type": "code",
   "execution_count": 21,
   "metadata": {
    "collapsed": false
   },
   "outputs": [
    {
     "name": "stdout",
     "output_type": "stream",
     "text": [
      "DH2013 14 39\n",
      "DH2011 6 36\n",
      "DH2010 2 27\n",
      "DH2014 15 37\n"
     ]
    }
   ],
   "source": [
    "for year, text in procyeartext.iteritems():\n",
    "    print year, text.count('python'), text.count('java')"
   ]
  },
  {
   "cell_type": "code",
   "execution_count": null,
   "metadata": {
    "collapsed": true
   },
   "outputs": [],
   "source": []
  }
 ],
 "metadata": {
  "kernelspec": {
   "display_name": "Python 2",
   "language": "python",
   "name": "python2"
  },
  "language_info": {
   "codemirror_mode": {
    "name": "ipython",
    "version": 2
   },
   "file_extension": ".py",
   "mimetype": "text/x-python",
   "name": "python",
   "nbconvert_exporter": "python",
   "pygments_lexer": "ipython2",
   "version": "2.7.3"
  }
 },
 "nbformat": 4,
 "nbformat_minor": 0
}

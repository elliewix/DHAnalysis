{
 "cells": [
  {
   "cell_type": "code",
   "execution_count": 3,
   "metadata": {
    "collapsed": true
   },
   "outputs": [],
   "source": [
    "import urllib2\n",
    "from scrapy.selector import Selector\n",
    "from os import listdir\n",
    "from os.path import isfile, join"
   ]
  },
  {
   "cell_type": "code",
   "execution_count": 4,
   "metadata": {
    "collapsed": true
   },
   "outputs": [],
   "source": [
    "def dlpage(url, targetname):\n",
    "    \"\"\"pass url and file name, downloads url page to this file\"\"\"\n",
    "    file(targetname, \"wb\").write(urllib2.urlopen(url).read())\n",
    "    \n",
    "def getFiles(path):\n",
    "    \"\"\"Function to return a list of all files within a folder\"\"\"\n",
    "    files = [ f for f in listdir(path) if isfile(join(path,f)) and f[0] != '.' ]\n",
    "    return files"
   ]
  },
  {
   "cell_type": "code",
   "execution_count": 10,
   "metadata": {
    "collapsed": false
   },
   "outputs": [
    {
     "name": "stdout",
     "output_type": "stream",
     "text": [
      "136\n",
      "136\n"
     ]
    }
   ],
   "source": [
    "index = 'DH2010/DH2010_ BrowseTitle.html'\n",
    "\n",
    "foundlinks = []\n",
    "\n",
    "with open(index, 'rt') as text:\n",
    "    body = text.read()\n",
    "    pages = Selector(text=body).xpath('//a/@href').extract()\n",
    "    foundlinks += pages\n",
    "    \n",
    "xmllinks = [x for x in foundlinks if x.endswith('.xml')]"
   ]
  },
  {
   "cell_type": "code",
   "execution_count": null,
   "metadata": {
    "collapsed": true
   },
   "outputs": [],
   "source": [
    "# download the abstract files"
   ]
  },
  {
   "cell_type": "code",
   "execution_count": 13,
   "metadata": {
    "collapsed": false
   },
   "outputs": [
    {
     "name": "stdout",
     "output_type": "stream",
     "text": [
      "DH2010/abstracts/ab-788.xml\n",
      "DH2010/abstracts/ab-731.xml\n",
      "DH2010/abstracts/ab-817.xml\n",
      "DH2010/abstracts/ab-885.xml\n",
      "DH2010/abstracts/ab-591.xml\n",
      "DH2010/abstracts/ab-846.xml\n",
      "DH2010/abstracts/ab-789.xml\n",
      "DH2010/abstracts/ab-796.xml\n",
      "DH2010/abstracts/ab-623.xml\n",
      "DH2010/abstracts/ab-632.xml\n",
      "DH2010/abstracts/ab-741.xml\n",
      "DH2010/abstracts/ab-780.xml\n",
      "DH2010/abstracts/ab-678.xml\n",
      "DH2010/abstracts/ab-755.xml\n",
      "DH2010/abstracts/ab-718.xml\n",
      "DH2010/abstracts/ab-863.xml\n",
      "DH2010/abstracts/ab-611.xml\n",
      "DH2010/abstracts/ab-716.xml\n",
      "DH2010/abstracts/ab-756.xml\n",
      "DH2010/abstracts/ab-830.xml\n",
      "DH2010/abstracts/ab-829.xml\n",
      "DH2010/abstracts/ab-709.xml\n",
      "DH2010/abstracts/ab-742.xml\n",
      "DH2010/abstracts/ab-749.xml\n",
      "DH2010/abstracts/ab-767.xml\n",
      "DH2010/abstracts/ab-599.xml\n",
      "DH2010/abstracts/ab-819.xml\n",
      "DH2010/abstracts/ab-856.xml\n",
      "DH2010/abstracts/ab-842.xml\n",
      "DH2010/abstracts/ab-688.xml\n",
      "DH2010/abstracts/ab-728.xml\n",
      "DH2010/abstracts/ab-637.xml\n",
      "DH2010/abstracts/ab-624.xml\n",
      "DH2010/abstracts/ab-739.xml\n",
      "DH2010/abstracts/ab-752.xml\n",
      "DH2010/abstracts/ab-814.xml\n",
      "DH2010/abstracts/ab-815.xml\n",
      "DH2010/abstracts/ab-696.xml\n",
      "DH2010/abstracts/ab-847.xml\n",
      "DH2010/abstracts/ab-765.xml\n",
      "DH2010/abstracts/ab-808.xml\n",
      "DH2010/abstracts/ab-827.xml\n",
      "DH2010/abstracts/ab-804.xml\n",
      "DH2010/abstracts/ab-813.xml\n",
      "DH2010/abstracts/ab-669.xml\n",
      "DH2010/abstracts/ab-744.xml\n",
      "DH2010/abstracts/ab-710.xml\n",
      "DH2010/abstracts/ab-605.xml\n",
      "DH2010/abstracts/ab-672.xml\n",
      "DH2010/abstracts/ab-708.xml\n",
      "DH2010/abstracts/ab-627.xml\n",
      "DH2010/abstracts/ab-858.xml\n",
      "DH2010/abstracts/ab-670.xml\n",
      "DH2010/abstracts/ab-797.xml\n",
      "DH2010/abstracts/ab-676.xml\n",
      "DH2010/abstracts/ab-692.xml\n",
      "DH2010/abstracts/ab-764.xml\n",
      "DH2010/abstracts/ab-005.xml\n",
      "DH2010/abstracts/ab-665.xml\n",
      "DH2010/abstracts/ab-873.xml\n",
      "DH2010/abstracts/ab-844.xml\n",
      "DH2010/abstracts/ab-691.xml\n",
      "DH2010/abstracts/ab-775.xml\n",
      "DH2010/abstracts/ab-697.xml\n",
      "DH2010/abstracts/ab-855.xml\n",
      "DH2010/abstracts/ab-868.xml\n",
      "DH2010/abstracts/ab-628.xml\n",
      "DH2010/abstracts/ab-705.xml\n",
      "DH2010/abstracts/ab-795.xml\n",
      "DH2010/abstracts/ab-601.xml\n",
      "DH2010/abstracts/ab-732.xml\n",
      "DH2010/abstracts/ab-629.xml\n",
      "DH2010/abstracts/ab-598.xml\n",
      "DH2010/abstracts/ab-673.xml\n",
      "DH2010/abstracts/ab-852.xml\n",
      "DH2010/abstracts/ab-748.xml\n",
      "DH2010/abstracts/ab-684.xml\n",
      "DH2010/abstracts/ab-840.xml\n",
      "DH2010/abstracts/ab-841.xml\n",
      "DH2010/abstracts/ab-620.xml\n",
      "DH2010/abstracts/ab-777.xml\n",
      "DH2010/abstracts/ab-003.xml\n",
      "DH2010/abstracts/ab-753.xml\n",
      "DH2010/abstracts/ab-675.xml\n",
      "DH2010/abstracts/ab-888.xml\n",
      "DH2010/abstracts/ab-783.xml\n",
      "DH2010/abstracts/ab-778.xml\n",
      "DH2010/abstracts/ab-763.xml\n",
      "DH2010/abstracts/ab-786.xml\n",
      "DH2010/abstracts/ab-770.xml\n",
      "DH2010/abstracts/ab-883.xml\n",
      "DH2010/abstracts/ab-878.xml\n",
      "DH2010/abstracts/ab-760.xml\n",
      "DH2010/abstracts/ab-837.xml\n",
      "DH2010/abstracts/ab-769.xml\n",
      "DH2010/abstracts/ab-803.xml\n",
      "DH2010/abstracts/ab-820.xml\n",
      "DH2010/abstracts/ab-658.xml\n",
      "DH2010/abstracts/ab-616.xml\n",
      "DH2010/abstracts/ab-643.xml\n",
      "DH2010/abstracts/ab-799.xml\n",
      "DH2010/abstracts/ab-659.xml\n",
      "DH2010/abstracts/ab-615.xml\n",
      "DH2010/abstracts/ab-699.xml\n",
      "DH2010/abstracts/ab-655.xml\n",
      "DH2010/abstracts/ab-680.xml\n",
      "DH2010/abstracts/ab-008.xml\n",
      "DH2010/abstracts/ab-722.xml\n",
      "DH2010/abstracts/ab-853.xml\n",
      "DH2010/abstracts/ab-633.xml\n",
      "DH2010/abstracts/ab-754.xml\n",
      "DH2010/abstracts/ab-860.xml\n",
      "DH2010/abstracts/ab-630.xml\n",
      "DH2010/abstracts/ab-690.xml\n",
      "DH2010/abstracts/ab-824.xml\n",
      "DH2010/abstracts/ab-626.xml\n",
      "DH2010/abstracts/ab-596.xml\n",
      "DH2010/abstracts/ab-589.xml\n",
      "DH2010/abstracts/ab-747.xml\n",
      "DH2010/abstracts/ab-004.xml\n",
      "DH2010/abstracts/ab-766.xml\n",
      "DH2010/abstracts/ab-880.xml\n",
      "DH2010/abstracts/ab-743.xml\n",
      "DH2010/abstracts/ab-663.xml\n",
      "DH2010/abstracts/ab-890.xml\n",
      "DH2010/abstracts/ab-807.xml\n",
      "DH2010/abstracts/ab-750.xml\n",
      "DH2010/abstracts/ab-693.xml\n",
      "DH2010/abstracts/ab-867.xml\n",
      "DH2010/abstracts/ab-007.xml\n",
      "DH2010/abstracts/ab-657.xml\n",
      "DH2010/abstracts/ab-715.xml\n",
      "DH2010/abstracts/ab-816.xml\n",
      "DH2010/abstracts/ab-865.xml\n",
      "DH2010/abstracts/ab-876.xml\n",
      "DH2010/abstracts/ab-822.xml\n"
     ]
    }
   ],
   "source": [
    "base = 'DH2010/abstracts/'\n",
    "\n",
    "for url in xmllinks:\n",
    "    name = url.split('/')[-1].split('.')[0]\n",
    "    name = base + name + '.xml'\n",
    "    #print name\n",
    "    dlpage(url, name)"
   ]
  },
  {
   "cell_type": "code",
   "execution_count": null,
   "metadata": {
    "collapsed": true
   },
   "outputs": [],
   "source": []
  }
 ],
 "metadata": {
  "kernelspec": {
   "display_name": "Python 2",
   "language": "python",
   "name": "python2"
  },
  "language_info": {
   "codemirror_mode": {
    "name": "ipython",
    "version": 2
   },
   "file_extension": ".py",
   "mimetype": "text/x-python",
   "name": "python",
   "nbconvert_exporter": "python",
   "pygments_lexer": "ipython2",
   "version": "2.7.3"
  }
 },
 "nbformat": 4,
 "nbformat_minor": 0
}
